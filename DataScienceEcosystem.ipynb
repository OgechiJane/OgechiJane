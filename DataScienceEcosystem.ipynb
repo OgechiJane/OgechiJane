{
 "cells": [
  {
   "cell_type": "markdown",
   "id": "3f07ee91-ea86-44ae-849c-52552f1df363",
   "metadata": {},
   "source": [
    "In this notebook, Data Science Tools and Ecosystem are summarized."
   ]
  },
  {
   "cell_type": "markdown",
   "id": "db125da5-4b7f-4def-a574-b60d51e5856a",
   "metadata": {},
   "source": [
    "**Some of the popular languages that Data Scientists use are**\n",
    "1.Python\n",
    "2. R Language\n",
    "3. SQL"
   ]
  },
  {
   "cell_type": "markdown",
   "id": "1c24672f-3d96-449f-a755-83fa19b3ec53",
   "metadata": {},
   "source": [
    "\n",
    "Some of the commonly used libraries used by Data Scientists include:\n",
    "1.NumPy\n",
    "2.Keras\n",
    "3.Pandas\n",
    "4.PyTorch\n",
    "5.SciPY\n"
   ]
  },
  {
   "cell_type": "markdown",
   "id": "9b107611-2f93-48da-8afc-af53460e9172",
   "metadata": {},
   "source": [
    "Data Science Tools|\n",
    "------------------\n",
    "Exce|\n",
    "SQL|\n",
    "R|\n",
    "\n",
    "\n",
    "\n",
    "\n",
    "\n",
    "\n",
    "\n",
    "\n"
   ]
  },
  {
   "cell_type": "markdown",
   "id": "af2cc922-ab35-425d-8af1-4efdca2573bf",
   "metadata": {},
   "source": [
    "___Below are a few examples of evaluating arithmetic expressions in Python___"
   ]
  },
  {
   "cell_type": "code",
   "execution_count": null,
   "id": "3fc325de-877b-4aef-ae1e-9f3c6d632998",
   "metadata": {
    "tags": []
   },
   "outputs": [],
   "source": [
    "(3*4)+5\n",
    "\n"
   ]
  },
  {
   "cell_type": "markdown",
   "id": "ef973e95-9b8c-495f-82d6-2138c221a0c2",
   "metadata": {
    "tags": []
   },
   "source": [
    "This will convert 200 minutes to hours by diving by 60\n",
    "\n"
   ]
  },
  {
   "cell_type": "code",
   "execution_count": 7,
   "id": "4d12f198-bbee-4925-8221-7dd7f02d6171",
   "metadata": {
    "tags": []
   },
   "outputs": [
    {
     "data": {
      "text/plain": [
       "3.3333333333333335"
      ]
     },
     "execution_count": 7,
     "metadata": {},
     "output_type": "execute_result"
    }
   ],
   "source": [
    "200/60"
   ]
  },
  {
   "cell_type": "markdown",
   "id": "49262f4c-dd5c-4e2d-a197-869c80360d97",
   "metadata": {
    "tags": []
   },
   "source": [
    "**Objectives of this notebook**\n",
    "1. It is a browser based application that is  used to create and share documents containing codes, equations and visualizations\n",
    "2. It is like a scientist lab notebook, where a scientist records all steps to perform their experiments.\n",
    "3. It allows a Data Scientist to record their data experiments and results that others can reuse."
   ]
  },
  {
   "cell_type": "markdown",
   "id": "0716f799-de17-4f19-94da-6a03064a51aa",
   "metadata": {
    "tags": []
   },
   "source": [
    "**Author**\n",
    "Ahuekwe Ogechi Jane"
   ]
  },
  {
   "cell_type": "markdown",
   "id": "9d0f10ac-ab4c-4bc2-8d90-39845b96774d",
   "metadata": {},
   "source": []
  }
 ],
 "metadata": {
  "kernelspec": {
   "display_name": "Python 3 (ipykernel)",
   "language": "python",
   "name": "python3"
  },
  "language_info": {
   "codemirror_mode": {
    "name": "ipython",
    "version": 3
   },
   "file_extension": ".py",
   "mimetype": "text/x-python",
   "name": "python",
   "nbconvert_exporter": "python",
   "pygments_lexer": "ipython3",
   "version": "3.11.5"
  }
 },
 "nbformat": 4,
 "nbformat_minor": 5
}
